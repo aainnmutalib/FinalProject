{
 "cells": [
  {
   "cell_type": "markdown",
   "id": "8547c2af",
   "metadata": {},
   "source": [
    " # ONLINE BUSINESS SALES 2017-2019\n",
    " \n",
    " The datasets are from a unnamed business' online retail sales from Kaggle.com."
   ]
  },
  {
   "cell_type": "markdown",
   "id": "7429f51d",
   "metadata": {},
   "source": [
    "## Problem Statement\n",
    "\n",
    "\n",
    "The datasets are from a unnamed business online retail sales. Unfortunately, they have had to cut back from 25 employees to 5 because of the economic downturn with the corona virus. Help them by identify the most ordered product type, product type that have the most average total net sales and which product that have the lowest return so they can plan their business to run in a long term.\n"
   ]
  },
  {
   "cell_type": "markdown",
   "id": "f764cd3c",
   "metadata": {},
   "source": [
    "## Importing packages"
   ]
  },
  {
   "cell_type": "code",
   "execution_count": 22,
   "id": "cddc7035",
   "metadata": {},
   "outputs": [],
   "source": [
    "import pandas as pd\n",
    "import numpy as np\n",
    "import matplotlib.pyplot as plt\n",
    "%matplotlib inline\n",
    "\n",
    "plt.rcParams['figure.figsize'] = (10, 6)\n",
    "plt.rcParams['font.size'] = 10\n"
   ]
  },
  {
   "cell_type": "markdown",
   "id": "e5165ba0",
   "metadata": {},
   "source": [
    "## Reading datasets file"
   ]
  },
  {
   "cell_type": "code",
   "execution_count": 23,
   "id": "dd6cdbc9",
   "metadata": {},
   "outputs": [],
   "source": [
    "sales = pd.read_csv('../data/business.retailsales.csv')"
   ]
  },
  {
   "cell_type": "code",
   "execution_count": 24,
   "id": "3a04ecd7",
   "metadata": {},
   "outputs": [
    {
     "data": {
      "text/html": [
       "<div>\n",
       "<style scoped>\n",
       "    .dataframe tbody tr th:only-of-type {\n",
       "        vertical-align: middle;\n",
       "    }\n",
       "\n",
       "    .dataframe tbody tr th {\n",
       "        vertical-align: top;\n",
       "    }\n",
       "\n",
       "    .dataframe thead th {\n",
       "        text-align: right;\n",
       "    }\n",
       "</style>\n",
       "<table border=\"1\" class=\"dataframe\">\n",
       "  <thead>\n",
       "    <tr style=\"text-align: right;\">\n",
       "      <th></th>\n",
       "      <th>Product Type</th>\n",
       "      <th>Net Quantity</th>\n",
       "      <th>Gross Sales</th>\n",
       "      <th>Discounts</th>\n",
       "      <th>Returns</th>\n",
       "      <th>Total Net Sales</th>\n",
       "    </tr>\n",
       "  </thead>\n",
       "  <tbody>\n",
       "    <tr>\n",
       "      <th>0</th>\n",
       "      <td>Art &amp; Sculpture</td>\n",
       "      <td>34</td>\n",
       "      <td>14935.0</td>\n",
       "      <td>-594.0</td>\n",
       "      <td>-1609.0</td>\n",
       "      <td>12732.0</td>\n",
       "    </tr>\n",
       "    <tr>\n",
       "      <th>1</th>\n",
       "      <td>Basket</td>\n",
       "      <td>13</td>\n",
       "      <td>3744.0</td>\n",
       "      <td>-316.8</td>\n",
       "      <td>0.0</td>\n",
       "      <td>3427.2</td>\n",
       "    </tr>\n",
       "    <tr>\n",
       "      <th>2</th>\n",
       "      <td>Basket</td>\n",
       "      <td>12</td>\n",
       "      <td>3825.0</td>\n",
       "      <td>-201.6</td>\n",
       "      <td>-288.0</td>\n",
       "      <td>3335.4</td>\n",
       "    </tr>\n",
       "  </tbody>\n",
       "</table>\n",
       "</div>"
      ],
      "text/plain": [
       "      Product Type  Net Quantity  Gross Sales  Discounts  Returns  \\\n",
       "0  Art & Sculpture            34      14935.0     -594.0  -1609.0   \n",
       "1           Basket            13       3744.0     -316.8      0.0   \n",
       "2           Basket            12       3825.0     -201.6   -288.0   \n",
       "\n",
       "   Total Net Sales  \n",
       "0          12732.0  \n",
       "1           3427.2  \n",
       "2           3335.4  "
      ]
     },
     "execution_count": 24,
     "metadata": {},
     "output_type": "execute_result"
    }
   ],
   "source": [
    "sales.head(3) #showing DataFrame"
   ]
  },
  {
   "cell_type": "code",
   "execution_count": 25,
   "id": "fb6c1eba",
   "metadata": {},
   "outputs": [
    {
     "data": {
      "text/plain": [
       "(1775, 6)"
      ]
     },
     "execution_count": 25,
     "metadata": {},
     "output_type": "execute_result"
    }
   ],
   "source": [
    "sales.shape #showing the rows and columns "
   ]
  },
  {
   "cell_type": "code",
   "execution_count": 26,
   "id": "b389ebef",
   "metadata": {},
   "outputs": [
    {
     "data": {
      "text/plain": [
       "Index(['Product Type', 'Net Quantity', 'Gross Sales', 'Discounts', 'Returns',\n",
       "       'Total Net Sales'],\n",
       "      dtype='object')"
      ]
     },
     "execution_count": 26,
     "metadata": {},
     "output_type": "execute_result"
    }
   ],
   "source": [
    "sales.columns #showing columns name"
   ]
  },
  {
   "cell_type": "code",
   "execution_count": 27,
   "id": "7831ed25",
   "metadata": {},
   "outputs": [],
   "source": [
    "#renaming the columns\n",
    "\n",
    "sales.rename(columns={'Product Type':'product_type','Net Quantity':'net_quantity','Gross Sales':'gross_sales','Discounts':\"discounts\",'Returns':'returns','Total Net Sales':'total_net_sales'},inplace = True)"
   ]
  },
  {
   "cell_type": "code",
   "execution_count": 28,
   "id": "c532b670",
   "metadata": {},
   "outputs": [
    {
     "data": {
      "text/plain": [
       "Index(['product_type', 'net_quantity', 'gross_sales', 'discounts', 'returns',\n",
       "       'total_net_sales'],\n",
       "      dtype='object')"
      ]
     },
     "execution_count": 28,
     "metadata": {},
     "output_type": "execute_result"
    }
   ],
   "source": [
    "sales.columns #testing the renaming function"
   ]
  },
  {
   "cell_type": "code",
   "execution_count": 29,
   "id": "97c68dd5",
   "metadata": {},
   "outputs": [
    {
     "data": {
      "text/plain": [
       "RangeIndex(start=0, stop=1775, step=1)"
      ]
     },
     "execution_count": 29,
     "metadata": {},
     "output_type": "execute_result"
    }
   ],
   "source": [
    "sales.index # showing the columns index info"
   ]
  },
  {
   "cell_type": "code",
   "execution_count": 30,
   "id": "472fe97c",
   "metadata": {},
   "outputs": [
    {
     "name": "stdout",
     "output_type": "stream",
     "text": [
      "None\n"
     ]
    }
   ],
   "source": [
    "print(sales.index.name) #the index name is none since we do not set any column as index"
   ]
  },
  {
   "cell_type": "code",
   "execution_count": 31,
   "id": "f02e45ef",
   "metadata": {},
   "outputs": [
    {
     "data": {
      "text/html": [
       "<div>\n",
       "<style scoped>\n",
       "    .dataframe tbody tr th:only-of-type {\n",
       "        vertical-align: middle;\n",
       "    }\n",
       "\n",
       "    .dataframe tbody tr th {\n",
       "        vertical-align: top;\n",
       "    }\n",
       "\n",
       "    .dataframe thead th {\n",
       "        text-align: right;\n",
       "    }\n",
       "</style>\n",
       "<table border=\"1\" class=\"dataframe\">\n",
       "  <thead>\n",
       "    <tr style=\"text-align: right;\">\n",
       "      <th></th>\n",
       "      <th>DataType</th>\n",
       "    </tr>\n",
       "  </thead>\n",
       "  <tbody>\n",
       "    <tr>\n",
       "      <th>product_type</th>\n",
       "      <td>object</td>\n",
       "    </tr>\n",
       "    <tr>\n",
       "      <th>net_quantity</th>\n",
       "      <td>int64</td>\n",
       "    </tr>\n",
       "    <tr>\n",
       "      <th>gross_sales</th>\n",
       "      <td>float64</td>\n",
       "    </tr>\n",
       "    <tr>\n",
       "      <th>discounts</th>\n",
       "      <td>float64</td>\n",
       "    </tr>\n",
       "    <tr>\n",
       "      <th>returns</th>\n",
       "      <td>float64</td>\n",
       "    </tr>\n",
       "    <tr>\n",
       "      <th>total_net_sales</th>\n",
       "      <td>float64</td>\n",
       "    </tr>\n",
       "  </tbody>\n",
       "</table>\n",
       "</div>"
      ],
      "text/plain": [
       "                DataType\n",
       "product_type      object\n",
       "net_quantity       int64\n",
       "gross_sales      float64\n",
       "discounts        float64\n",
       "returns          float64\n",
       "total_net_sales  float64"
      ]
     },
     "execution_count": 31,
     "metadata": {},
     "output_type": "execute_result"
    }
   ],
   "source": [
    "pd.DataFrame(sales.dtypes, columns=['DataType']) # showing data types"
   ]
  },
  {
   "cell_type": "code",
   "execution_count": 32,
   "id": "79cb9c67",
   "metadata": {},
   "outputs": [],
   "source": [
    "#converting data type\n",
    "\n",
    "sales = sales.astype({'product_type':object,\n",
    "                      'net_quantity':int,\n",
    "                      'gross_sales':int,\n",
    "                      'discounts':int,\n",
    "                      'returns':int,\n",
    "                      'total_net_sales':int})"
   ]
  },
  {
   "cell_type": "code",
   "execution_count": 33,
   "id": "d9acdec8",
   "metadata": {},
   "outputs": [
    {
     "data": {
      "text/html": [
       "<div>\n",
       "<style scoped>\n",
       "    .dataframe tbody tr th:only-of-type {\n",
       "        vertical-align: middle;\n",
       "    }\n",
       "\n",
       "    .dataframe tbody tr th {\n",
       "        vertical-align: top;\n",
       "    }\n",
       "\n",
       "    .dataframe thead th {\n",
       "        text-align: right;\n",
       "    }\n",
       "</style>\n",
       "<table border=\"1\" class=\"dataframe\">\n",
       "  <thead>\n",
       "    <tr style=\"text-align: right;\">\n",
       "      <th></th>\n",
       "      <th>DataType</th>\n",
       "    </tr>\n",
       "  </thead>\n",
       "  <tbody>\n",
       "    <tr>\n",
       "      <th>product_type</th>\n",
       "      <td>object</td>\n",
       "    </tr>\n",
       "    <tr>\n",
       "      <th>net_quantity</th>\n",
       "      <td>int32</td>\n",
       "    </tr>\n",
       "    <tr>\n",
       "      <th>gross_sales</th>\n",
       "      <td>int32</td>\n",
       "    </tr>\n",
       "    <tr>\n",
       "      <th>discounts</th>\n",
       "      <td>int32</td>\n",
       "    </tr>\n",
       "    <tr>\n",
       "      <th>returns</th>\n",
       "      <td>int32</td>\n",
       "    </tr>\n",
       "    <tr>\n",
       "      <th>total_net_sales</th>\n",
       "      <td>int32</td>\n",
       "    </tr>\n",
       "  </tbody>\n",
       "</table>\n",
       "</div>"
      ],
      "text/plain": [
       "                DataType\n",
       "product_type      object\n",
       "net_quantity       int32\n",
       "gross_sales        int32\n",
       "discounts          int32\n",
       "returns            int32\n",
       "total_net_sales    int32"
      ]
     },
     "execution_count": 33,
     "metadata": {},
     "output_type": "execute_result"
    }
   ],
   "source": [
    "pd.DataFrame(sales.dtypes, columns=['DataType'])"
   ]
  },
  {
   "cell_type": "markdown",
   "id": "feceabec",
   "metadata": {},
   "source": [
    "## Handling data missing data"
   ]
  },
  {
   "cell_type": "markdown",
   "id": "1dc0d902",
   "metadata": {},
   "source": [
    "### Identifying missing data"
   ]
  },
  {
   "cell_type": "code",
   "execution_count": 34,
   "id": "a4b399eb",
   "metadata": {},
   "outputs": [
    {
     "data": {
      "text/html": [
       "<div>\n",
       "<style scoped>\n",
       "    .dataframe tbody tr th:only-of-type {\n",
       "        vertical-align: middle;\n",
       "    }\n",
       "\n",
       "    .dataframe tbody tr th {\n",
       "        vertical-align: top;\n",
       "    }\n",
       "\n",
       "    .dataframe thead th {\n",
       "        text-align: right;\n",
       "    }\n",
       "</style>\n",
       "<table border=\"1\" class=\"dataframe\">\n",
       "  <thead>\n",
       "    <tr style=\"text-align: right;\">\n",
       "      <th></th>\n",
       "      <th>product_type</th>\n",
       "      <th>net_quantity</th>\n",
       "      <th>gross_sales</th>\n",
       "      <th>discounts</th>\n",
       "      <th>returns</th>\n",
       "      <th>total_net_sales</th>\n",
       "    </tr>\n",
       "  </thead>\n",
       "  <tbody>\n",
       "    <tr>\n",
       "      <th>0</th>\n",
       "      <td>True</td>\n",
       "      <td>True</td>\n",
       "      <td>True</td>\n",
       "      <td>True</td>\n",
       "      <td>True</td>\n",
       "      <td>True</td>\n",
       "    </tr>\n",
       "    <tr>\n",
       "      <th>1</th>\n",
       "      <td>True</td>\n",
       "      <td>True</td>\n",
       "      <td>True</td>\n",
       "      <td>True</td>\n",
       "      <td>True</td>\n",
       "      <td>True</td>\n",
       "    </tr>\n",
       "    <tr>\n",
       "      <th>2</th>\n",
       "      <td>True</td>\n",
       "      <td>True</td>\n",
       "      <td>True</td>\n",
       "      <td>True</td>\n",
       "      <td>True</td>\n",
       "      <td>True</td>\n",
       "    </tr>\n",
       "    <tr>\n",
       "      <th>3</th>\n",
       "      <td>True</td>\n",
       "      <td>True</td>\n",
       "      <td>True</td>\n",
       "      <td>True</td>\n",
       "      <td>True</td>\n",
       "      <td>True</td>\n",
       "    </tr>\n",
       "    <tr>\n",
       "      <th>4</th>\n",
       "      <td>True</td>\n",
       "      <td>True</td>\n",
       "      <td>True</td>\n",
       "      <td>True</td>\n",
       "      <td>True</td>\n",
       "      <td>True</td>\n",
       "    </tr>\n",
       "  </tbody>\n",
       "</table>\n",
       "</div>"
      ],
      "text/plain": [
       "   product_type  net_quantity  gross_sales  discounts  returns  \\\n",
       "0          True          True         True       True     True   \n",
       "1          True          True         True       True     True   \n",
       "2          True          True         True       True     True   \n",
       "3          True          True         True       True     True   \n",
       "4          True          True         True       True     True   \n",
       "\n",
       "   total_net_sales  \n",
       "0             True  \n",
       "1             True  \n",
       "2             True  \n",
       "3             True  \n",
       "4             True  "
      ]
     },
     "execution_count": 34,
     "metadata": {},
     "output_type": "execute_result"
    }
   ],
   "source": [
    "#returning non-missing data as True\n",
    "#As we can see the first 5 rows have no missing data\n",
    "\n",
    "sales.notnull().head()"
   ]
  },
  {
   "cell_type": "code",
   "execution_count": 35,
   "id": "1b118cc0",
   "metadata": {},
   "outputs": [
    {
     "data": {
      "text/html": [
       "<div>\n",
       "<style scoped>\n",
       "    .dataframe tbody tr th:only-of-type {\n",
       "        vertical-align: middle;\n",
       "    }\n",
       "\n",
       "    .dataframe tbody tr th {\n",
       "        vertical-align: top;\n",
       "    }\n",
       "\n",
       "    .dataframe thead th {\n",
       "        text-align: right;\n",
       "    }\n",
       "</style>\n",
       "<table border=\"1\" class=\"dataframe\">\n",
       "  <thead>\n",
       "    <tr style=\"text-align: right;\">\n",
       "      <th></th>\n",
       "      <th>product_type</th>\n",
       "      <th>net_quantity</th>\n",
       "      <th>gross_sales</th>\n",
       "      <th>discounts</th>\n",
       "      <th>returns</th>\n",
       "      <th>total_net_sales</th>\n",
       "    </tr>\n",
       "  </thead>\n",
       "  <tbody>\n",
       "    <tr>\n",
       "      <th>0</th>\n",
       "      <td>False</td>\n",
       "      <td>False</td>\n",
       "      <td>False</td>\n",
       "      <td>False</td>\n",
       "      <td>False</td>\n",
       "      <td>False</td>\n",
       "    </tr>\n",
       "    <tr>\n",
       "      <th>1</th>\n",
       "      <td>False</td>\n",
       "      <td>False</td>\n",
       "      <td>False</td>\n",
       "      <td>False</td>\n",
       "      <td>False</td>\n",
       "      <td>False</td>\n",
       "    </tr>\n",
       "    <tr>\n",
       "      <th>2</th>\n",
       "      <td>False</td>\n",
       "      <td>False</td>\n",
       "      <td>False</td>\n",
       "      <td>False</td>\n",
       "      <td>False</td>\n",
       "      <td>False</td>\n",
       "    </tr>\n",
       "    <tr>\n",
       "      <th>3</th>\n",
       "      <td>False</td>\n",
       "      <td>False</td>\n",
       "      <td>False</td>\n",
       "      <td>False</td>\n",
       "      <td>False</td>\n",
       "      <td>False</td>\n",
       "    </tr>\n",
       "    <tr>\n",
       "      <th>4</th>\n",
       "      <td>False</td>\n",
       "      <td>False</td>\n",
       "      <td>False</td>\n",
       "      <td>False</td>\n",
       "      <td>False</td>\n",
       "      <td>False</td>\n",
       "    </tr>\n",
       "  </tbody>\n",
       "</table>\n",
       "</div>"
      ],
      "text/plain": [
       "   product_type  net_quantity  gross_sales  discounts  returns  \\\n",
       "0         False         False        False      False    False   \n",
       "1         False         False        False      False    False   \n",
       "2         False         False        False      False    False   \n",
       "3         False         False        False      False    False   \n",
       "4         False         False        False      False    False   \n",
       "\n",
       "   total_net_sales  \n",
       "0            False  \n",
       "1            False  \n",
       "2            False  \n",
       "3            False  \n",
       "4            False  "
      ]
     },
     "execution_count": 35,
     "metadata": {},
     "output_type": "execute_result"
    }
   ],
   "source": [
    "sales.isnull().head()\n",
    "\n",
    "#returning non-missing data as False\n",
    "#First 5 rows have no missing datas"
   ]
  },
  {
   "cell_type": "code",
   "execution_count": 36,
   "id": "7158697a",
   "metadata": {},
   "outputs": [
    {
     "data": {
      "text/plain": [
       "product_type       8\n",
       "net_quantity       0\n",
       "gross_sales        0\n",
       "discounts          0\n",
       "returns            0\n",
       "total_net_sales    0\n",
       "dtype: int64"
      ]
     },
     "execution_count": 36,
     "metadata": {},
     "output_type": "execute_result"
    }
   ],
   "source": [
    "#However we can see the aggregate missing data for each column by this\n",
    "\n",
    "sales.isnull().sum()"
   ]
  },
  {
   "cell_type": "code",
   "execution_count": 37,
   "id": "fb14c65f",
   "metadata": {},
   "outputs": [
    {
     "data": {
      "text/html": [
       "<div>\n",
       "<style scoped>\n",
       "    .dataframe tbody tr th:only-of-type {\n",
       "        vertical-align: middle;\n",
       "    }\n",
       "\n",
       "    .dataframe tbody tr th {\n",
       "        vertical-align: top;\n",
       "    }\n",
       "\n",
       "    .dataframe thead th {\n",
       "        text-align: right;\n",
       "    }\n",
       "</style>\n",
       "<table border=\"1\" class=\"dataframe\">\n",
       "  <thead>\n",
       "    <tr style=\"text-align: right;\">\n",
       "      <th></th>\n",
       "      <th>Count of Nulls</th>\n",
       "    </tr>\n",
       "    <tr>\n",
       "      <th>Column</th>\n",
       "      <th></th>\n",
       "    </tr>\n",
       "  </thead>\n",
       "  <tbody>\n",
       "    <tr>\n",
       "      <th>product_type</th>\n",
       "      <td>8</td>\n",
       "    </tr>\n",
       "    <tr>\n",
       "      <th>net_quantity</th>\n",
       "      <td>0</td>\n",
       "    </tr>\n",
       "    <tr>\n",
       "      <th>gross_sales</th>\n",
       "      <td>0</td>\n",
       "    </tr>\n",
       "    <tr>\n",
       "      <th>discounts</th>\n",
       "      <td>0</td>\n",
       "    </tr>\n",
       "    <tr>\n",
       "      <th>returns</th>\n",
       "      <td>0</td>\n",
       "    </tr>\n",
       "    <tr>\n",
       "      <th>total_net_sales</th>\n",
       "      <td>0</td>\n",
       "    </tr>\n",
       "  </tbody>\n",
       "</table>\n",
       "</div>"
      ],
      "text/plain": [
       "                 Count of Nulls\n",
       "Column                         \n",
       "product_type                  8\n",
       "net_quantity                  0\n",
       "gross_sales                   0\n",
       "discounts                     0\n",
       "returns                       0\n",
       "total_net_sales               0"
      ]
     },
     "execution_count": 37,
     "metadata": {},
     "output_type": "execute_result"
    }
   ],
   "source": [
    "#Making new column for missing data\n",
    "\n",
    "\n",
    "null_sales = pd.DataFrame(sales.isnull().sum(), columns=['Count of Nulls'])\n",
    "null_sales.index.name = 'Column'\n",
    "null_sales.sort_values(['Count of Nulls'], ascending=False).head(10)"
   ]
  },
  {
   "cell_type": "markdown",
   "id": "7e5127b7",
   "metadata": {},
   "source": [
    "### Cleaning missing data\n",
    "\n",
    "There are two ways to handle missing data as to drop them or fill them. I choose to drop them."
   ]
  },
  {
   "cell_type": "code",
   "execution_count": 38,
   "id": "ebbcf17d",
   "metadata": {},
   "outputs": [
    {
     "data": {
      "text/plain": [
       "0       Art & Sculpture\n",
       "1                Basket\n",
       "2                Basket\n",
       "3                Basket\n",
       "4       Art & Sculpture\n",
       "             ...       \n",
       "1770            Kitchen\n",
       "1771            Jewelry\n",
       "1772             Basket\n",
       "1773            Kitchen\n",
       "1774            Kitchen\n",
       "Name: product_type, Length: 1767, dtype: object"
      ]
     },
     "execution_count": 38,
     "metadata": {},
     "output_type": "execute_result"
    }
   ],
   "source": [
    "sales['product_type'].dropna(inplace=False) #drop the null data"
   ]
  },
  {
   "cell_type": "code",
   "execution_count": 39,
   "id": "6a72d427",
   "metadata": {},
   "outputs": [
    {
     "data": {
      "text/html": [
       "<div>\n",
       "<style scoped>\n",
       "    .dataframe tbody tr th:only-of-type {\n",
       "        vertical-align: middle;\n",
       "    }\n",
       "\n",
       "    .dataframe tbody tr th {\n",
       "        vertical-align: top;\n",
       "    }\n",
       "\n",
       "    .dataframe thead th {\n",
       "        text-align: right;\n",
       "    }\n",
       "</style>\n",
       "<table border=\"1\" class=\"dataframe\">\n",
       "  <thead>\n",
       "    <tr style=\"text-align: right;\">\n",
       "      <th></th>\n",
       "      <th>product_type</th>\n",
       "      <th>net_quantity</th>\n",
       "      <th>gross_sales</th>\n",
       "      <th>discounts</th>\n",
       "      <th>returns</th>\n",
       "      <th>total_net_sales</th>\n",
       "    </tr>\n",
       "  </thead>\n",
       "  <tbody>\n",
       "    <tr>\n",
       "      <th>0</th>\n",
       "      <td>Art &amp; Sculpture</td>\n",
       "      <td>34</td>\n",
       "      <td>14935</td>\n",
       "      <td>-594</td>\n",
       "      <td>-1609</td>\n",
       "      <td>12732</td>\n",
       "    </tr>\n",
       "    <tr>\n",
       "      <th>1</th>\n",
       "      <td>Basket</td>\n",
       "      <td>13</td>\n",
       "      <td>3744</td>\n",
       "      <td>-316</td>\n",
       "      <td>0</td>\n",
       "      <td>3427</td>\n",
       "    </tr>\n",
       "    <tr>\n",
       "      <th>2</th>\n",
       "      <td>Basket</td>\n",
       "      <td>12</td>\n",
       "      <td>3825</td>\n",
       "      <td>-201</td>\n",
       "      <td>-288</td>\n",
       "      <td>3335</td>\n",
       "    </tr>\n",
       "  </tbody>\n",
       "</table>\n",
       "</div>"
      ],
      "text/plain": [
       "      product_type  net_quantity  gross_sales  discounts  returns  \\\n",
       "0  Art & Sculpture            34        14935       -594    -1609   \n",
       "1           Basket            13         3744       -316        0   \n",
       "2           Basket            12         3825       -201     -288   \n",
       "\n",
       "   total_net_sales  \n",
       "0            12732  \n",
       "1             3427  \n",
       "2             3335  "
      ]
     },
     "execution_count": 39,
     "metadata": {},
     "output_type": "execute_result"
    }
   ],
   "source": [
    "sales.dropna(subset=['product_type']).head(3) #other way to drop null data"
   ]
  },
  {
   "cell_type": "markdown",
   "id": "f97e3f93",
   "metadata": {},
   "source": [
    "## Grouping by Product Type\n",
    "\n",
    "It will be easier to access data for each product type"
   ]
  },
  {
   "cell_type": "code",
   "execution_count": 40,
   "id": "70281239",
   "metadata": {},
   "outputs": [
    {
     "data": {
      "text/html": [
       "<div>\n",
       "<style scoped>\n",
       "    .dataframe tbody tr th:only-of-type {\n",
       "        vertical-align: middle;\n",
       "    }\n",
       "\n",
       "    .dataframe tbody tr th {\n",
       "        vertical-align: top;\n",
       "    }\n",
       "\n",
       "    .dataframe thead th {\n",
       "        text-align: right;\n",
       "    }\n",
       "</style>\n",
       "<table border=\"1\" class=\"dataframe\">\n",
       "  <thead>\n",
       "    <tr style=\"text-align: right;\">\n",
       "      <th></th>\n",
       "      <th>product_type</th>\n",
       "      <th>net_quantity</th>\n",
       "      <th>gross_sales</th>\n",
       "      <th>discounts</th>\n",
       "      <th>returns</th>\n",
       "      <th>total_net_sales</th>\n",
       "    </tr>\n",
       "  </thead>\n",
       "  <tbody>\n",
       "    <tr>\n",
       "      <th>0</th>\n",
       "      <td>Art &amp; Sculpture</td>\n",
       "      <td>34</td>\n",
       "      <td>14935</td>\n",
       "      <td>-594</td>\n",
       "      <td>-1609</td>\n",
       "      <td>12732</td>\n",
       "    </tr>\n",
       "    <tr>\n",
       "      <th>1</th>\n",
       "      <td>Basket</td>\n",
       "      <td>13</td>\n",
       "      <td>3744</td>\n",
       "      <td>-316</td>\n",
       "      <td>0</td>\n",
       "      <td>3427</td>\n",
       "    </tr>\n",
       "    <tr>\n",
       "      <th>2</th>\n",
       "      <td>Basket</td>\n",
       "      <td>12</td>\n",
       "      <td>3825</td>\n",
       "      <td>-201</td>\n",
       "      <td>-288</td>\n",
       "      <td>3335</td>\n",
       "    </tr>\n",
       "    <tr>\n",
       "      <th>3</th>\n",
       "      <td>Basket</td>\n",
       "      <td>17</td>\n",
       "      <td>3035</td>\n",
       "      <td>-63</td>\n",
       "      <td>0</td>\n",
       "      <td>2971</td>\n",
       "    </tr>\n",
       "    <tr>\n",
       "      <th>4</th>\n",
       "      <td>Art &amp; Sculpture</td>\n",
       "      <td>47</td>\n",
       "      <td>2696</td>\n",
       "      <td>-44</td>\n",
       "      <td>0</td>\n",
       "      <td>2652</td>\n",
       "    </tr>\n",
       "    <tr>\n",
       "      <th>...</th>\n",
       "      <td>...</td>\n",
       "      <td>...</td>\n",
       "      <td>...</td>\n",
       "      <td>...</td>\n",
       "      <td>...</td>\n",
       "      <td>...</td>\n",
       "    </tr>\n",
       "    <tr>\n",
       "      <th>1028</th>\n",
       "      <td>NaN</td>\n",
       "      <td>1</td>\n",
       "      <td>75</td>\n",
       "      <td>0</td>\n",
       "      <td>0</td>\n",
       "      <td>75</td>\n",
       "    </tr>\n",
       "    <tr>\n",
       "      <th>1030</th>\n",
       "      <td>NaN</td>\n",
       "      <td>1</td>\n",
       "      <td>75</td>\n",
       "      <td>0</td>\n",
       "      <td>0</td>\n",
       "      <td>75</td>\n",
       "    </tr>\n",
       "    <tr>\n",
       "      <th>1287</th>\n",
       "      <td>NaN</td>\n",
       "      <td>1</td>\n",
       "      <td>48</td>\n",
       "      <td>0</td>\n",
       "      <td>0</td>\n",
       "      <td>48</td>\n",
       "    </tr>\n",
       "    <tr>\n",
       "      <th>1482</th>\n",
       "      <td>Easter</td>\n",
       "      <td>1</td>\n",
       "      <td>38</td>\n",
       "      <td>-3</td>\n",
       "      <td>0</td>\n",
       "      <td>34</td>\n",
       "    </tr>\n",
       "    <tr>\n",
       "      <th>1690</th>\n",
       "      <td>Gift Baskets</td>\n",
       "      <td>1</td>\n",
       "      <td>19</td>\n",
       "      <td>0</td>\n",
       "      <td>0</td>\n",
       "      <td>19</td>\n",
       "    </tr>\n",
       "  </tbody>\n",
       "</table>\n",
       "<p>87 rows × 6 columns</p>\n",
       "</div>"
      ],
      "text/plain": [
       "         product_type  net_quantity  gross_sales  discounts  returns  \\\n",
       "0     Art & Sculpture            34        14935       -594    -1609   \n",
       "1              Basket            13         3744       -316        0   \n",
       "2              Basket            12         3825       -201     -288   \n",
       "3              Basket            17         3035        -63        0   \n",
       "4     Art & Sculpture            47         2696        -44        0   \n",
       "...               ...           ...          ...        ...      ...   \n",
       "1028              NaN             1           75          0        0   \n",
       "1030              NaN             1           75          0        0   \n",
       "1287              NaN             1           48          0        0   \n",
       "1482           Easter             1           38         -3        0   \n",
       "1690     Gift Baskets             1           19          0        0   \n",
       "\n",
       "      total_net_sales  \n",
       "0               12732  \n",
       "1                3427  \n",
       "2                3335  \n",
       "3                2971  \n",
       "4                2652  \n",
       "...               ...  \n",
       "1028               75  \n",
       "1030               75  \n",
       "1287               48  \n",
       "1482               34  \n",
       "1690               19  \n",
       "\n",
       "[87 rows x 6 columns]"
      ]
     },
     "execution_count": 40,
     "metadata": {},
     "output_type": "execute_result"
    }
   ],
   "source": [
    "sales.groupby(by=['product_type']).head()"
   ]
  },
  {
   "cell_type": "markdown",
   "id": "7ba74038",
   "metadata": {},
   "source": [
    "### Finding the average total net sales for each product type"
   ]
  },
  {
   "cell_type": "code",
   "execution_count": 41,
   "id": "ad8e058c",
   "metadata": {},
   "outputs": [
    {
     "data": {
      "text/plain": [
       "187.78028169014084"
      ]
     },
     "execution_count": 41,
     "metadata": {},
     "output_type": "execute_result"
    }
   ],
   "source": [
    "#return the average total net sales of all columns\n",
    "\n",
    "sales['total_net_sales'].mean()"
   ]
  },
  {
   "cell_type": "code",
   "execution_count": 42,
   "id": "0d0f26b4",
   "metadata": {},
   "outputs": [
    {
     "data": {
      "text/plain": [
       "product_type\n",
       "Art & Sculpture    250.492582\n",
       "Basket             244.462795\n",
       "Skin Care          233.363636\n",
       "Name: total_net_sales, dtype: float64"
      ]
     },
     "execution_count": 42,
     "metadata": {},
     "output_type": "execute_result"
    }
   ],
   "source": [
    "#return the average total net sales for each product type\n",
    "\n",
    "sales.groupby(['product_type'])['total_net_sales'].mean().sort_values( ascending=False).head(3)"
   ]
  },
  {
   "cell_type": "code",
   "execution_count": 43,
   "id": "cefef109",
   "metadata": {},
   "outputs": [
    {
     "data": {
      "text/plain": [
       "<AxesSubplot:xlabel='product_type'>"
      ]
     },
     "execution_count": 43,
     "metadata": {},
     "output_type": "execute_result"
    },
    {
     "data": {
      "image/png": "[encoded data removed]",
      "text/plain": [
       "<Figure size 720x432 with 1 Axes>"
      ]
     },
     "metadata": {
      "needs_background": "light"
     },
     "output_type": "display_data"
    }
   ],
   "source": [
    "#Visualizing the data for better understanding\n",
    "\n",
    "sales.groupby(['product_type'])['total_net_sales'].mean().plot(kind='bar')"
   ]
  },
  {
   "cell_type": "markdown",
   "id": "f5ae9069",
   "metadata": {},
   "source": [
    "### Finding the most ordered product type"
   ]
  },
  {
   "cell_type": "code",
   "execution_count": 44,
   "id": "c22ec105",
   "metadata": {},
   "outputs": [
    {
     "data": {
      "text/plain": [
       "product_type\n",
       "Basket             1461\n",
       "Art & Sculpture    1427\n",
       "Jewelry             991\n",
       "Name: net_quantity, dtype: int32"
      ]
     },
     "execution_count": 44,
     "metadata": {},
     "output_type": "execute_result"
    }
   ],
   "source": [
    "sales.groupby(['product_type'])['net_quantity'].sum().sort_values( ascending=False).head(3)"
   ]
  },
  {
   "cell_type": "code",
   "execution_count": 63,
   "id": "2c47651a",
   "metadata": {},
   "outputs": [
    {
     "data": {
      "text/plain": [
       "<AxesSubplot:ylabel='net_quantity'>"
      ]
     },
     "execution_count": 63,
     "metadata": {},
     "output_type": "execute_result"
    },
    {
     "data": {
      "image/png": "[encoded data removed]",
      "text/plain": [
       "<Figure size 720x432 with 1 Axes>"
      ]
     },
     "metadata": {},
     "output_type": "display_data"
    }
   ],
   "source": [
    "sales.groupby(['product_type'])['net_quantity'].sum().plot(kind='pie')"
   ]
  },
  {
   "cell_type": "markdown",
   "id": "123e96f4",
   "metadata": {},
   "source": [
    "### Finding the most discounted product type"
   ]
  },
  {
   "cell_type": "code",
   "execution_count": 46,
   "id": "d6fd9ba5",
   "metadata": {},
   "outputs": [
    {
     "data": {
      "text/plain": [
       "product_type\n",
       "Basket            -4474\n",
       "Art & Sculpture   -2883\n",
       "Home Decor         -953\n",
       "Name: discounts, dtype: int32"
      ]
     },
     "execution_count": 46,
     "metadata": {},
     "output_type": "execute_result"
    }
   ],
   "source": [
    "# negative value means the how much the discount given for the particular product type\n",
    "\n",
    "sales.groupby(['product_type'])['discounts'].sum().sort_values( ascending=True).head(3)"
   ]
  },
  {
   "cell_type": "markdown",
   "id": "76aef748",
   "metadata": {},
   "source": [
    "### Finding product type that have lowest return"
   ]
  },
  {
   "cell_type": "code",
   "execution_count": 47,
   "id": "fa671738",
   "metadata": {},
   "outputs": [
    {
     "data": {
      "text/plain": [
       "product_type\n",
       "Basket            -4437\n",
       "Art & Sculpture   -2878\n",
       "Christmas          -670\n",
       "Name: returns, dtype: int32"
      ]
     },
     "execution_count": 47,
     "metadata": {},
     "output_type": "execute_result"
    }
   ],
   "source": [
    "#returns here means returning products\n",
    "\n",
    "sales.groupby(['product_type'])['returns'].sum().sort_values( ascending=True).head(3)"
   ]
  },
  {
   "cell_type": "markdown",
   "id": "b5fd22c9",
   "metadata": {},
   "source": [
    "## Conclusion\n",
    "\n",
    "\n",
    "We can see from the above analyzed datas that Basket and Art & Sculpture are one of the popular product and have the highest discount despite of having the highest returning value. The returned products may due to damaged item or changing of mind of the customers. We can suggest to the client to change their product supplier especially for Basket and Art & Sculpture product type because the current one is not in a great quantity. They also can lower the discounted rate for these products and considering to discontinued a few product type as net only receive a few order. These solutions will help them gaining the momentum and cutting their product cost."
   ]
  },
  {
   "cell_type": "markdown",
   "id": "5c27e468",
   "metadata": {},
   "source": [
    "## Changing Product Type to Acronym"
   ]
  },
  {
   "cell_type": "code",
   "execution_count": 48,
   "id": "cc3d9d87",
   "metadata": {},
   "outputs": [],
   "source": [
    "def product_type_to_acronym(product_type): \n",
    "    product_type_dict = {'Art & Sculpture':'AS',\n",
    "                         'Basket':'B', \n",
    "                         'Christmas':'C',\n",
    "                         'Home Decor':'HM',\n",
    "                         'Recycled Art':'RA', \n",
    "                         'Jewelry':'J',\n",
    "                         'Skin Care':'SC',\n",
    "                         'Kitchen':'KC',\n",
    "                         'Textiles':'T',\n",
    "                         'Accessories':'A',\n",
    "                         'Fair Trade Gifts':'FTG',\n",
    "                         'One-of-a-Kind':'OOAK', \n",
    "                         'Soapstone':'SS',\n",
    "                         'Music':'M', \n",
    "                         'Furniture':'F', \n",
    "                         'Kids':'K', \n",
    "                         'Easter':'E', \n",
    "                         'Gift Baskets':'GB' \n",
    "                        }\n",
    "    \n",
    "    try:\n",
    "        return product_type_dict[product_type]\n",
    "    except:\n",
    "        return 'N'"
   ]
  },
  {
   "cell_type": "code",
   "execution_count": 49,
   "id": "dedb9c70",
   "metadata": {},
   "outputs": [
    {
     "data": {
      "text/plain": [
       "'N'"
      ]
     },
     "execution_count": 49,
     "metadata": {},
     "output_type": "execute_result"
    }
   ],
   "source": [
    "product_type_to_acronym('Tree')"
   ]
  },
  {
   "cell_type": "code",
   "execution_count": null,
   "id": "49e7ff86",
   "metadata": {},
   "outputs": [],
   "source": [
    "sales['product_type'] = sales['product_type'].apply(product_type_to_acronym)"
   ]
  },
  {
   "cell_type": "code",
   "execution_count": 58,
   "id": "e1c80f3c",
   "metadata": {},
   "outputs": [
    {
     "data": {
      "text/plain": [
       "<AxesSubplot:ylabel='net_quantity'>"
      ]
     },
     "execution_count": 58,
     "metadata": {},
     "output_type": "execute_result"
    },
    {
     "data": {
      "image/png": "[encoded data removed]",
      "text/plain": [
       "<Figure size 720x432 with 1 Axes>"
      ]
     },
     "metadata": {},
     "output_type": "display_data"
    }
   ],
   "source": [
    "sales.groupby(['product_type'])['net_quantity'].sum().plot(kind='pie')"
   ]
  },
  {
   "cell_type": "code",
   "execution_count": null,
   "id": "1d759792",
   "metadata": {},
   "outputs": [],
   "source": []
  }
 ],
 "metadata": {
  "kernelspec": {
   "display_name": "Python 3",
   "language": "python",
   "name": "python3"
  },
  "language_info": {
   "codemirror_mode": {
    "name": "ipython",
    "version": 3
   },
   "file_extension": ".py",
   "mimetype": "text/x-python",
   "name": "python",
   "nbconvert_exporter": "python",
   "pygments_lexer": "ipython3",
   "version": "3.8.8"
  }
 },
 "nbformat": 4,
 "nbformat_minor": 5
}
